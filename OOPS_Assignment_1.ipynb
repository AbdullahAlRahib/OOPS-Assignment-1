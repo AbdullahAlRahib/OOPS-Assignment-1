{
  "nbformat": 4,
  "nbformat_minor": 0,
  "metadata": {
    "colab": {
      "provenance": []
    },
    "kernelspec": {
      "name": "python3",
      "display_name": "Python 3"
    },
    "language_info": {
      "name": "python"
    }
  },
  "cells": [
    {
      "cell_type": "markdown",
      "source": [
        "# **Q1**\n",
        "\n",
        "**Explain Class and Object with respect to Object-Oriented Programming. Give a suitable example.**\n",
        "\n",
        "**Answer:**\n",
        "\n",
        "A class is a blueprint or template that defines the properties and behaviors of a specific type of object. It acts as a blueprint for constructing object instances, often known as class instances or objects. An object, on the other hand, is a class instance. It is a physical representation of the class, each with its own distinct state and behavior."
      ],
      "metadata": {
        "id": "WwZhIsTdYhvT"
      }
    },
    {
      "cell_type": "code",
      "execution_count": 10,
      "metadata": {
        "id": "IHdmm5MsXlHV"
      },
      "outputs": [],
      "source": [
        "class student(): # Class\n",
        "  def __init__(self, name, age): #constructor\n",
        "    self.name = name\n",
        "    self.age = age\n",
        "\n",
        "  def student_details(self): #special method\n",
        "    print(\"Student name is: \", self.name,\" age: \", self.age)"
      ]
    },
    {
      "cell_type": "markdown",
      "source": [
        "the student class has two attributes: name and age. It also has one method: student_details. The __init__ method is a special method known as the constructor, used to initialize the object's attributes when it is created."
      ],
      "metadata": {
        "id": "oS7kUvgfZ59h"
      }
    },
    {
      "cell_type": "code",
      "source": [
        "s1 = student(\"Rahib\", 24) # To create an instance (or object) of the student class. S1 is the object of the student class"
      ],
      "metadata": {
        "id": "_MoQIH-wZl2C"
      },
      "execution_count": 11,
      "outputs": []
    },
    {
      "cell_type": "code",
      "source": [
        "s1.student_details() # We can then access the attributes and call the methods of the object using dot notation"
      ],
      "metadata": {
        "colab": {
          "base_uri": "https://localhost:8080/"
        },
        "id": "n9-9AfQuZx_Y",
        "outputId": "5e6c5c07-5a89-4c53-d585-7ac8420ca5ae"
      },
      "execution_count": 12,
      "outputs": [
        {
          "output_type": "stream",
          "name": "stdout",
          "text": [
            "Student name is:  Rahib  age:  24\n"
          ]
        }
      ]
    },
    {
      "cell_type": "markdown",
      "source": [
        "# **Q2.**\n",
        "\n",
        "**Name the four pillars of OOPs?**\n",
        "\n",
        "**Answer:**\n",
        "\n",
        "*   Abstraction.\n",
        "*   Encapsulation.\n",
        "*   Inheritance.\n",
        "*   Polymorphism."
      ],
      "metadata": {
        "id": "W-cXinhLa4Vo"
      }
    },
    {
      "cell_type": "markdown",
      "source": [
        "# **Q3**\n",
        "\n",
        "**Explain why the __init__() function is used. Give a suitable example**\n",
        "\n",
        "**Answer:**\n",
        "\n",
        "The __init__() function, also known as the constructor, is used in object-oriented programming to initialize the attributes of an object when it is created. It is a special method that gets automatically called when a new instance of a class is instantiated.\n",
        "\n",
        "The primary purpose of the __init__() function is to set the initial state of an object by assigning values to its attributes. It allows you to define and initialize the object's attributes within the class definition itself. This ensures that each instance of the class starts with a specific state.\n"
      ],
      "metadata": {
        "id": "O7HKpSNGbd16"
      }
    },
    {
      "cell_type": "code",
      "source": [
        "class Person:\n",
        "    def __init__(self, name, age):\n",
        "        self.name = name\n",
        "        self.age = age\n",
        "\n",
        "    def introduce(self):\n",
        "        print(f\"My name is {self.name} and I am {self.age} years old.\")\n"
      ],
      "metadata": {
        "id": "OCw--n0KbyAs"
      },
      "execution_count": 13,
      "outputs": []
    },
    {
      "cell_type": "code",
      "source": [
        "# Create instances of the Person class\n",
        "person1 = Person(\"Rahim\", 25)\n",
        "person2 = Person(\"Karim\", 30)"
      ],
      "metadata": {
        "id": "BJSHXH2Kb4HA"
      },
      "execution_count": 14,
      "outputs": []
    },
    {
      "cell_type": "markdown",
      "source": [
        " the Person class has two attributes: name and age. The __init__() function takes in the name and age as parameters and assigns them to the corresponding attributes using the self keyword. The self parameter refers to the instance of the class being created."
      ],
      "metadata": {
        "id": "cC_hteVbcDFE"
      }
    },
    {
      "cell_type": "markdown",
      "source": [
        "# **Q4**\n",
        "\n",
        "**Why self is used in OOPs?**\n",
        "\n",
        "**Answer:**\n",
        "\n",
        "The self variable is used to represent the instance of the class which is often used in object-oriented programming. It works as a reference to the object. Python uses the self parameter to refer to instance attributes and methods of the class."
      ],
      "metadata": {
        "id": "suT5D13LcEDZ"
      }
    },
    {
      "cell_type": "code",
      "source": [
        "class Circle:\n",
        "    def __init__(self, radius):\n",
        "        self.radius = radius\n",
        "\n",
        "    def calculate_area(self):\n",
        "        area = 3.14 * self.radius ** 2\n",
        "        return area"
      ],
      "metadata": {
        "id": "6nYVNhDjcW8x"
      },
      "execution_count": 15,
      "outputs": []
    },
    {
      "cell_type": "markdown",
      "source": [
        "self.radius refers to the instance attribute radius, which is specific to each instance of the Circle class. It allows the calculate_area() method to access the radius attribute and perform calculations using its value.\n",
        "\n",
        "By using self, you ensure that the methods within the class can operate on the correct instance and access its attributes and methods as needed, enabling proper encapsulation and behavior of objects in OOP."
      ],
      "metadata": {
        "id": "Z3c3aUzocfg7"
      }
    },
    {
      "cell_type": "code",
      "source": [
        "circle = Circle(5)"
      ],
      "metadata": {
        "id": "RdtDTYfvcdwu"
      },
      "execution_count": 16,
      "outputs": []
    },
    {
      "cell_type": "code",
      "source": [
        "circle.calculate_area()"
      ],
      "metadata": {
        "colab": {
          "base_uri": "https://localhost:8080/"
        },
        "id": "CtGdnqOScf_k",
        "outputId": "b659ca47-e429-4d16-ca5e-522a8143e3ff"
      },
      "execution_count": 17,
      "outputs": [
        {
          "output_type": "execute_result",
          "data": {
            "text/plain": [
              "78.5"
            ]
          },
          "metadata": {},
          "execution_count": 17
        }
      ]
    },
    {
      "cell_type": "markdown",
      "source": [
        "# **Q4**\n",
        "\n",
        "**What is inheritance? Give an example for each type of inheritance.**\n",
        "\n",
        "**Answer:**\n",
        "\n",
        " Inheritance is a mechanism in which one class acquires the property of another class. For example, a child inherits the traits of his/her parents. With inheritance, we can reuse the fields and methods of the existing class."
      ],
      "metadata": {
        "id": "DHTZ4kngcdc4"
      }
    },
    {
      "cell_type": "markdown",
      "source": [
        "Single Inheritance:\n",
        "Single inheritance refers to a scenario where a class inherits from a single parent class. The child class inherits all the attributes and methods of the parent class."
      ],
      "metadata": {
        "id": "kc_fibH2dDX6"
      }
    },
    {
      "cell_type": "code",
      "source": [
        "class Animal:\n",
        "    def __init__(self, name):\n",
        "        self.name = name\n",
        "\n",
        "    def sound(self):\n",
        "        pass\n",
        "\n",
        "class Dog(Animal):\n",
        "    def sound(self):\n",
        "        return \"Woof!\""
      ],
      "metadata": {
        "id": "vOJzC9bIdFsD"
      },
      "execution_count": 18,
      "outputs": []
    },
    {
      "cell_type": "code",
      "source": [
        "dog = Dog(\"Buddy\")"
      ],
      "metadata": {
        "id": "H9WGW9XfdVqL"
      },
      "execution_count": 19,
      "outputs": []
    },
    {
      "cell_type": "code",
      "source": [
        "dog.name"
      ],
      "metadata": {
        "colab": {
          "base_uri": "https://localhost:8080/",
          "height": 36
        },
        "id": "noAnIHAwdZuS",
        "outputId": "92f86d94-7c98-4446-e555-29e1a87fc327"
      },
      "execution_count": 20,
      "outputs": [
        {
          "output_type": "execute_result",
          "data": {
            "text/plain": [
              "'Buddy'"
            ],
            "application/vnd.google.colaboratory.intrinsic+json": {
              "type": "string"
            }
          },
          "metadata": {},
          "execution_count": 20
        }
      ]
    },
    {
      "cell_type": "code",
      "source": [
        "dog.sound()"
      ],
      "metadata": {
        "colab": {
          "base_uri": "https://localhost:8080/",
          "height": 36
        },
        "id": "f5w6sVGTddhE",
        "outputId": "381c721b-947a-4e9f-9648-43d9f80343dd"
      },
      "execution_count": 21,
      "outputs": [
        {
          "output_type": "execute_result",
          "data": {
            "text/plain": [
              "'Woof!'"
            ],
            "application/vnd.google.colaboratory.intrinsic+json": {
              "type": "string"
            }
          },
          "metadata": {},
          "execution_count": 21
        }
      ]
    },
    {
      "cell_type": "markdown",
      "source": [
        "Multiple Inheritance:\n",
        "Multiple inheritance occurs when a class inherits from multiple parent classes. The child class inherits attributes and methods from all the parent classes."
      ],
      "metadata": {
        "id": "GPti-6DpdLB0"
      }
    },
    {
      "cell_type": "code",
      "source": [
        "class Bird:\n",
        "    def fly(self):\n",
        "        return \"Flying\"\n",
        "\n",
        "class Mammal:\n",
        "    def feed(self):\n",
        "        return \"Feeding\"\n",
        "\n",
        "class Bat(Bird, Mammal):\n",
        "    pass"
      ],
      "metadata": {
        "id": "ccaqXDtPdLi4"
      },
      "execution_count": 22,
      "outputs": []
    },
    {
      "cell_type": "code",
      "source": [
        "bat = Bat()"
      ],
      "metadata": {
        "id": "4gHheRR-dgge"
      },
      "execution_count": 23,
      "outputs": []
    },
    {
      "cell_type": "code",
      "source": [
        "bat.fly()"
      ],
      "metadata": {
        "colab": {
          "base_uri": "https://localhost:8080/",
          "height": 36
        },
        "id": "1oOMJvOjdigX",
        "outputId": "10193309-603b-4d58-aa76-19c0be0211a3"
      },
      "execution_count": 24,
      "outputs": [
        {
          "output_type": "execute_result",
          "data": {
            "text/plain": [
              "'Flying'"
            ],
            "application/vnd.google.colaboratory.intrinsic+json": {
              "type": "string"
            }
          },
          "metadata": {},
          "execution_count": 24
        }
      ]
    },
    {
      "cell_type": "code",
      "source": [
        "bat.feed()"
      ],
      "metadata": {
        "colab": {
          "base_uri": "https://localhost:8080/",
          "height": 36
        },
        "id": "N6p5e-7QdkRw",
        "outputId": "841a76e0-65b8-4a86-b2de-c525de00b8bf"
      },
      "execution_count": 25,
      "outputs": [
        {
          "output_type": "execute_result",
          "data": {
            "text/plain": [
              "'Feeding'"
            ],
            "application/vnd.google.colaboratory.intrinsic+json": {
              "type": "string"
            }
          },
          "metadata": {},
          "execution_count": 25
        }
      ]
    },
    {
      "cell_type": "markdown",
      "source": [
        "Multilevel Inheritance:\n",
        "Multilevel inheritance refers to a situation where a child class itself becomes the parent class for another child class. It forms a hierarchy of inheritance."
      ],
      "metadata": {
        "id": "kv3uwp82dRBK"
      }
    },
    {
      "cell_type": "code",
      "source": [
        "class Animal:\n",
        "    def eat(self):\n",
        "        return \"Eating\"\n",
        "\n",
        "class Dog(Animal):\n",
        "    def bark(self):\n",
        "        return \"Woof!\"\n",
        "\n",
        "class Bulldog(Dog):\n",
        "    def guard(self):\n",
        "        return \"Guarding\""
      ],
      "metadata": {
        "id": "7Ty7CidGdO8X"
      },
      "execution_count": 26,
      "outputs": []
    },
    {
      "cell_type": "code",
      "source": [
        "bulldog = Bulldog()"
      ],
      "metadata": {
        "id": "IBnRFt_7dnjW"
      },
      "execution_count": 27,
      "outputs": []
    },
    {
      "cell_type": "code",
      "source": [
        "bulldog.eat()"
      ],
      "metadata": {
        "colab": {
          "base_uri": "https://localhost:8080/",
          "height": 36
        },
        "id": "5fVa8QWcdpIr",
        "outputId": "a0aa96c6-8fb4-4b20-d35d-c72de941fc08"
      },
      "execution_count": 28,
      "outputs": [
        {
          "output_type": "execute_result",
          "data": {
            "text/plain": [
              "'Eating'"
            ],
            "application/vnd.google.colaboratory.intrinsic+json": {
              "type": "string"
            }
          },
          "metadata": {},
          "execution_count": 28
        }
      ]
    },
    {
      "cell_type": "code",
      "source": [
        "bulldog.bark()"
      ],
      "metadata": {
        "colab": {
          "base_uri": "https://localhost:8080/",
          "height": 36
        },
        "id": "zU9BO2YwdqwT",
        "outputId": "73813da5-9073-4f1c-89ae-875e085d2837"
      },
      "execution_count": 29,
      "outputs": [
        {
          "output_type": "execute_result",
          "data": {
            "text/plain": [
              "'Woof!'"
            ],
            "application/vnd.google.colaboratory.intrinsic+json": {
              "type": "string"
            }
          },
          "metadata": {},
          "execution_count": 29
        }
      ]
    },
    {
      "cell_type": "code",
      "source": [
        "bulldog.guard()"
      ],
      "metadata": {
        "colab": {
          "base_uri": "https://localhost:8080/",
          "height": 36
        },
        "id": "Q1t_ZSWjdtMp",
        "outputId": "0b1fb2a9-f8e0-43eb-ff4a-aa200c0c4996"
      },
      "execution_count": 30,
      "outputs": [
        {
          "output_type": "execute_result",
          "data": {
            "text/plain": [
              "'Guarding'"
            ],
            "application/vnd.google.colaboratory.intrinsic+json": {
              "type": "string"
            }
          },
          "metadata": {},
          "execution_count": 30
        }
      ]
    }
  ]
}